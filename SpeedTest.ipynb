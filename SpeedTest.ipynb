{
 "cells": [
  {
   "cell_type": "code",
   "execution_count": 1,
   "metadata": {},
   "outputs": [
    {
     "name": "stdout",
     "output_type": "stream",
     "text": [
      "activated Dueling DQN\n",
      "activated Dueling DQN\n",
      "10000\n"
     ]
    },
    {
     "name": "stderr",
     "output_type": "stream",
     "text": [
      "/Users/andrewyu/opt/anaconda3/lib/python3.7/site-packages/numpy/core/_asarray.py:136: VisibleDeprecationWarning: Creating an ndarray from ragged nested sequences (which is a list-or-tuple of lists-or-tuples-or ndarrays with different lengths or shapes) is deprecated. If you meant to do this, you must specify 'dtype=object' when creating the ndarray\n",
      "  return array(a, dtype, copy=False, order=order, subok=True)\n"
     ]
    }
   ],
   "source": [
    "from PMemory import PMemory\n",
    "from DQNagent import DQNagent\n",
    "import numpy as np\n",
    "# import time \n",
    "\n",
    "N = 10000\n",
    "pm = PMemory(N, \"./test_folder/testPM.h5\")\n",
    "a = DQNagent(pm, \"./test_folder\")\n",
    "state = [np.array([0,0]),np.array([1,0]),np.array([1,0]),np.array([1,1])]\n",
    "state_next = [np.array([1,0]),np.array([1,0]),np.array([1,1]),np.array([1,1])]\n",
    "action = [0, 1, 0, 1]\n",
    "returns = [0.5625, 0.75 ,1, 0]\n",
    "done = [False,False,False,True]\n",
    "for i in range(N//4):\n",
    "    a.save_memory(state, state_next, action, returns, done)\n",
    "print(len(a.memory))\n",
    "r = a.sample_replay(10)"
   ]
  },
  {
   "cell_type": "code",
   "execution_count": 2,
   "metadata": {},
   "outputs": [],
   "source": [
    "def cycle():\n",
    "    state, state_next, action, returns, done, idx, sample_weight = a.sample_replay(1000)\n",
    "    updated_q_values = a.target_q(state_next, returns, done)\n",
    "#     a.train(state, action, updated_q_values, np.array([sample_weight]))"
   ]
  },
  {
   "cell_type": "code",
   "execution_count": 3,
   "metadata": {},
   "outputs": [],
   "source": [
    "a.DOUBLE = False\n",
    "cycle()"
   ]
  },
  {
   "cell_type": "code",
   "execution_count": 6,
   "metadata": {},
   "outputs": [
    {
     "name": "stdout",
     "output_type": "stream",
     "text": [
      "15.8 ms ± 377 µs per loop (mean ± std. dev. of 7 runs, 100 loops each)\n"
     ]
    }
   ],
   "source": [
    "%timeit cycle()"
   ]
  },
  {
   "cell_type": "code",
   "execution_count": null,
   "metadata": {},
   "outputs": [],
   "source": []
  }
 ],
 "metadata": {
  "kernelspec": {
   "display_name": "Python 3",
   "language": "python",
   "name": "python3"
  },
  "language_info": {
   "codemirror_mode": {
    "name": "ipython",
    "version": 3
   },
   "file_extension": ".py",
   "mimetype": "text/x-python",
   "name": "python",
   "nbconvert_exporter": "python",
   "pygments_lexer": "ipython3",
   "version": "3.7.6"
  }
 },
 "nbformat": 4,
 "nbformat_minor": 4
}
